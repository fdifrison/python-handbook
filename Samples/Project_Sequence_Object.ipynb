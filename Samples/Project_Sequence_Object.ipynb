{
 "cells": [
  {
   "cell_type": "markdown",
   "metadata": {},
   "source": [
    "# Polygon Class\n",
    "\n",
    "## Goal1: Create a Polygon Class that has:\n",
    "\n",
    "init:\n",
    "* \\# edges\n",
    "* cirmcumradius\n",
    "\n",
    "property:\n",
    "* \\# edges\n",
    "* \\# vertices\n",
    "* \\# interior angle\n",
    "* \\# edge len\n",
    "* \\# apothem len\n",
    "* \\# area\n",
    "* \\# perimeter\n",
    "\n",
    "functionality:\n",
    "* `__repr__`\n",
    "* `__eq__` based on \\# of vertices and circumradius\n",
    "* `__gt__` based on the \\# of vertices\n",
    "\n",
    "## Goal2: Creat a sequence type Polygon class that\n",
    "Create all the polygon from n (max number of vertices) going down\n",
    "\n",
    "init:\n",
    "* \\# edges of the largest polygon\n",
    "* common cirmcumradius\n",
    "\n",
    "property:\n",
    "* max efficiency polygon (max area/perimeter ratio)\n",
    "\n",
    "functionality:\n",
    "* `__getitem__`\n",
    "*  `__len__`\n"
   ]
  },
  {
   "cell_type": "code",
   "execution_count": 18,
   "metadata": {},
   "outputs": [],
   "source": [
    "import math\n",
    "\n",
    "class Polygon:\n",
    "    def __init__(self, n, R):\n",
    "        \n",
    "        if n < 3:\n",
    "            raise ValueError(\"You need at least 3 edges to form a Polygon\")\n",
    "        \n",
    "        self._n = n\n",
    "        self._R = R\n",
    "        \n",
    "    @property\n",
    "    def edges_num(self):\n",
    "        return self._n\n",
    "    \n",
    "    @property\n",
    "    def vertices(self):\n",
    "        return self._n\n",
    "    \n",
    "    @property\n",
    "    def circumradius(self):\n",
    "        return self._R\n",
    "    \n",
    "    @property\n",
    "    def interior_angle(self):\n",
    "        return (self._n-2) * (180/self._n)\n",
    "    \n",
    "    @property\n",
    "    def apothem(self):\n",
    "        return self._R * math.cos(math.pi / self._n) \n",
    "    \n",
    "    @property\n",
    "    def edge_len(self):\n",
    "        return 2*self._R * math.sin(math.pi / self._n)\n",
    "    \n",
    "    @property\n",
    "    def perimeter(self):\n",
    "        return self._n * self.edge_len\n",
    "    \n",
    "    @property\n",
    "    def area(self):\n",
    "        return 0.5*self.perimeter * self.apothem\n",
    "    \n",
    "    \n",
    "    def __repr__(self):\n",
    "        return f'{self.__class__.__name__}(n={self._n}, R={self._R})'\n",
    "    \n",
    "    def __eq__(self, other):\n",
    "        if isinstance(other, self.__class__):\n",
    "            return self._n == other._n and self._R == other._R\n",
    "        else:            \n",
    "            return NotImplemented \n",
    "            # we dont want to raise and exception, otherwise python will try also the reversed equality\n",
    "            # a == b anfd then b == a\n",
    "        \n",
    "    def __gt__(self, other):\n",
    "        if isinstance(other, self.__class__):\n",
    "            return self.vertices >= other.vertices \n",
    "        else:    \n",
    "            raise TypeError(f'{other} has to be of type {self.__class__.__name__}')\n",
    "    \n",
    "    "
   ]
  },
  {
   "cell_type": "markdown",
   "metadata": {},
   "source": [
    "## Unittest"
   ]
  },
  {
   "cell_type": "code",
   "execution_count": 19,
   "metadata": {},
   "outputs": [],
   "source": [
    "def test_polygon():\n",
    "    \n",
    "    try:\n",
    "        p = Polygon(2, 10)\n",
    "        assert False, ('Polygon with 2 sides, expected a ValueError not received')\n",
    "    except ValueError:\n",
    "        pass\n",
    "        \n",
    "    \n",
    "    n = 3\n",
    "    R = 1\n",
    "    p = Polygon(n, R)\n",
    "    assert str(p) == f'{p.__class__.__name__}(n={n}, R={R})'\n",
    "    assert p.vertices == n\n",
    "    assert p.edges_num == n\n",
    "    assert p.circumradius == R\n",
    "    assert p.interior_angle == 60\n",
    "    \n",
    "    n = 4\n",
    "    R = 1\n",
    "    p = Polygon(n, R)\n",
    "    assert p.interior_angle == 90\n",
    "    assert p.area == 2.0"
   ]
  },
  {
   "cell_type": "code",
   "execution_count": 20,
   "metadata": {},
   "outputs": [],
   "source": [
    "test_polygon()"
   ]
  },
  {
   "cell_type": "markdown",
   "metadata": {},
   "source": [
    "We are actually risking a big mistake comparing floats with the `==` assertion, since float division can lead to decimal residuals due to machine precision. We should use the built-in function from the math module `isclose()` (to be fair we should explicit a relative and absolute tolarance that fit our pourpose)."
   ]
  },
  {
   "cell_type": "code",
   "execution_count": 21,
   "metadata": {},
   "outputs": [],
   "source": [
    "from math import isclose\n",
    "\n",
    "def test_polygon():\n",
    "    \n",
    "    try:\n",
    "        p = Polygon(2, 10)\n",
    "        assert False, ('Polygon with 2 sides, expected a ValueError not received')\n",
    "    except ValueError:\n",
    "        pass\n",
    "        \n",
    "    n = 3\n",
    "    R = 1\n",
    "    p = Polygon(n, R)\n",
    "    assert str(p) == f'{p.__class__.__name__}(n={n}, R={R})'\n",
    "    assert p.vertices == n\n",
    "    assert p.edges_num == n\n",
    "    assert p.circumradius == R\n",
    "    assert isclose(p.interior_angle, 60)\n",
    "    \n",
    "    n = 4\n",
    "    R = 1\n",
    "    p = Polygon(n, R)\n",
    "    assert isclose(p.interior_angle, 90)\n",
    "    assert isclose(p.area, 2.0)\n",
    "    assert isclose(p.edge_len, math.sqrt(2))\n",
    "    assert isclose(p.perimeter, 4 * math.sqrt(2))\n",
    "    \n",
    "    \n",
    "    p1 = Polygon(3, 10)\n",
    "    p2 = Polygon(3, 12)\n",
    "    p3 = Polygon(4, 15)\n",
    "    p4 = Polygon(4, 15)\n",
    "    \n",
    "    assert p1 != p2\n",
    "    assert p2 < p3\n",
    "    assert p3 == p4\n",
    "   "
   ]
  },
  {
   "cell_type": "code",
   "execution_count": 22,
   "metadata": {},
   "outputs": [],
   "source": [
    "test_polygon()"
   ]
  },
  {
   "cell_type": "code",
   "execution_count": null,
   "metadata": {},
   "outputs": [],
   "source": []
  },
  {
   "cell_type": "code",
   "execution_count": 61,
   "metadata": {},
   "outputs": [],
   "source": [
    "class Polygon_Sequence:\n",
    "    def __init__(self, m, R):\n",
    "        \n",
    "        if m < 3:\n",
    "            raise ValueError(\"You need at least 3 edges to form a Polygon\")\n",
    "        \n",
    "        self._m = m\n",
    "        self._R = R\n",
    "        self._polygons = [Polygon(i, R) for i in range(3, m+1)]\n",
    "        \n",
    "    def __len__(self):\n",
    "        return self._m - 2\n",
    "        \n",
    "    def __repr__(self):\n",
    "        return f'{self.__class__.__name__}(m={self._m}, R={self._R})'\n",
    "    \n",
    "    \n",
    "    def __getitem__(self, i):\n",
    "        '''\n",
    "        since we are inerithing list properties we dont nees to create \n",
    "        exceptions for the values that 's' can assume. it can be negative, slice etc..\n",
    "        and the list constructor will take care of that\n",
    "        '''\n",
    "        return self._polygons[i]\n",
    "    \n",
    "    @property\n",
    "    def max_efficiency(self):\n",
    "        efficiency = sorted(self._polygons, key= lambda x: x.area/x.perimeter, reverse=True)\n",
    "        return efficiency[0]\n",
    "        \n",
    "    \n",
    "    "
   ]
  },
  {
   "cell_type": "code",
   "execution_count": 62,
   "metadata": {},
   "outputs": [],
   "source": [
    "test = Polygon_Sequence(6, 10)"
   ]
  },
  {
   "cell_type": "code",
   "execution_count": 63,
   "metadata": {},
   "outputs": [
    {
     "data": {
      "text/plain": [
       "(4, Polygon_Sequence(m=6, R=10))"
      ]
     },
     "execution_count": 63,
     "metadata": {},
     "output_type": "execute_result"
    }
   ],
   "source": [
    "len(test), test"
   ]
  },
  {
   "cell_type": "code",
   "execution_count": 64,
   "metadata": {},
   "outputs": [
    {
     "data": {
      "text/plain": [
       "[Polygon(n=4, R=10), Polygon(n=5, R=10), Polygon(n=6, R=10)]"
      ]
     },
     "execution_count": 64,
     "metadata": {},
     "output_type": "execute_result"
    }
   ],
   "source": [
    "test[1::]"
   ]
  },
  {
   "cell_type": "code",
   "execution_count": 65,
   "metadata": {},
   "outputs": [
    {
     "data": {
      "text/plain": [
       "Polygon(n=6, R=10)"
      ]
     },
     "execution_count": 65,
     "metadata": {},
     "output_type": "execute_result"
    }
   ],
   "source": [
    "test.max_efficiency"
   ]
  },
  {
   "cell_type": "code",
   "execution_count": null,
   "metadata": {},
   "outputs": [],
   "source": []
  }
 ],
 "metadata": {
  "kernelspec": {
   "display_name": "Python 3",
   "language": "python",
   "name": "python3"
  },
  "language_info": {
   "codemirror_mode": {
    "name": "ipython",
    "version": 3
   },
   "file_extension": ".py",
   "mimetype": "text/x-python",
   "name": "python",
   "nbconvert_exporter": "python",
   "pygments_lexer": "ipython3",
   "version": "3.7.4"
  }
 },
 "nbformat": 4,
 "nbformat_minor": 2
}
