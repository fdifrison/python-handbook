{
 "cells": [
  {
   "cell_type": "markdown",
   "metadata": {},
   "source": [
    "# Lazy Iterator - Polygon Class\n",
    "\n",
    "Starting from the [Project_Sequence_Object](Project_Sequence_Object.ipynb), refactor the class Polygon so that it computes the properties in a `Lazy` way. Then turn the Polygon sequence in a Polygon Iterator"
   ]
  },
  {
   "cell_type": "code",
   "execution_count": 4,
   "metadata": {},
   "outputs": [],
   "source": [
    "import math\n",
    "\n",
    "class Polygon:\n",
    "    def __init__(self, n, R):\n",
    "        \n",
    "        if n < 3:\n",
    "            raise ValueError(\"You need at least 3 edges to form a Polygon\")\n",
    "        \n",
    "        self._n = n\n",
    "        self._R = R\n",
    "        \n",
    "        # Lazy prop\n",
    "        self._interior_angle = None\n",
    "        self._apothem = None\n",
    "        self._edge_len = None\n",
    "        self._perimeter = None\n",
    "        self._area = None\n",
    "        \n",
    "        \n",
    "    @property\n",
    "    def edges_num(self):\n",
    "        return self._n\n",
    "    \n",
    "    @property\n",
    "    def vertices(self):\n",
    "        return self._n\n",
    "    \n",
    "    @property\n",
    "    def circumradius(self):\n",
    "        return self._R\n",
    "    \n",
    "    @property\n",
    "    def interior_angle(self):\n",
    "        if self._interior_angle is None:\n",
    "            self._interior_angle = (self._n-2) * (180/self._n)      \n",
    "        return self._interior_angle\n",
    "    \n",
    "    @property\n",
    "    def apothem(self):\n",
    "        if self._apothem is None:\n",
    "            self._apothem = self._R * math.cos(math.pi / self._n) \n",
    "        return self._apothem\n",
    "    \n",
    "    @property\n",
    "    def edge_len(self):\n",
    "        if self._edge_len is None:\n",
    "            self._edge_len = 2*self._R * math.sin(math.pi / self._n)\n",
    "        return self._edge_len\n",
    "    \n",
    "    @property\n",
    "    def perimeter(self):\n",
    "        if self._perimeter is None:\n",
    "            self._perimeter = self._n * self.edge_len\n",
    "        return self._perimeter\n",
    "    \n",
    "    @property\n",
    "    def area(self):\n",
    "        if self._area is None:\n",
    "            self._area = 0.5*self.perimeter * self.apothem\n",
    "        return self._area\n",
    "    \n",
    "    \n",
    "    def __repr__(self):\n",
    "        return f'{self.__class__.__name__}(n={self._n}, R={self._R})'\n",
    "    \n",
    "    def __eq__(self, other):\n",
    "        if isinstance(other, self.__class__):\n",
    "            return self._n == other._n and self._R == other._R\n",
    "        else:            \n",
    "            return NotImplemented \n",
    "            # we dont want to raise and exception, otherwise python will try also the reversed equality\n",
    "            # a == b anfd then b == a\n",
    "        \n",
    "    def __gt__(self, other):\n",
    "        if isinstance(other, self.__class__):\n",
    "            return self.vertices >= other.vertices \n",
    "        else:    \n",
    "            raise TypeError(f'{other} has to be of type {self.__class__.__name__}')\n",
    "    "
   ]
  },
  {
   "cell_type": "code",
   "execution_count": 5,
   "metadata": {},
   "outputs": [],
   "source": [
    "from math import isclose\n",
    "\n",
    "def test_polygon():\n",
    "    \n",
    "    try:\n",
    "        p = Polygon(2, 10)\n",
    "        assert False, ('Polygon with 2 sides, expected a ValueError not received')\n",
    "    except ValueError:\n",
    "        pass\n",
    "        \n",
    "    n = 3\n",
    "    R = 1\n",
    "    p = Polygon(n, R)\n",
    "    assert str(p) == f'{p.__class__.__name__}(n={n}, R={R})'\n",
    "    assert p.vertices == n\n",
    "    assert p.edges_num == n\n",
    "    assert p.circumradius == R\n",
    "    assert isclose(p.interior_angle, 60)\n",
    "    \n",
    "    n = 4\n",
    "    R = 1\n",
    "    p = Polygon(n, R)\n",
    "    assert isclose(p.interior_angle, 90)\n",
    "    assert isclose(p.area, 2.0)\n",
    "    assert isclose(p.edge_len, math.sqrt(2))\n",
    "    assert isclose(p.perimeter, 4 * math.sqrt(2))\n",
    "    \n",
    "    \n",
    "    p1 = Polygon(3, 10)\n",
    "    p2 = Polygon(3, 12)\n",
    "    p3 = Polygon(4, 15)\n",
    "    p4 = Polygon(4, 15)\n",
    "    \n",
    "    assert p1 != p2\n",
    "    assert p2 < p3\n",
    "    assert p3 == p4\n",
    "   "
   ]
  },
  {
   "cell_type": "code",
   "execution_count": 6,
   "metadata": {},
   "outputs": [],
   "source": [
    "test_polygon()"
   ]
  },
  {
   "cell_type": "code",
   "execution_count": 83,
   "metadata": {},
   "outputs": [],
   "source": [
    "class Poly_Iterator:\n",
    "    def __init__(self, m, R):\n",
    "        print('iterator_called')\n",
    "        if m < 3:\n",
    "            raise ValueError(\"You need at least 3 edges to form a Polygon\")\n",
    "\n",
    "        self._m = m\n",
    "        self._R = R\n",
    "        self._i = 3 # the first polygon need to have 3 edges\n",
    "        \n",
    "    def __repr__(self):\n",
    "        return f'{self.__class__.__name__}(m={self._m}, R={self._R})'\n",
    "        \n",
    "    def __iter__(self):\n",
    "        return self\n",
    "    \n",
    "    def __next__(self):\n",
    "        if self._i > self._m:\n",
    "            raise StopIteration\n",
    "        else:\n",
    "            res = Polygon(self._i, self._R)\n",
    "            self._i += 1\n",
    "            return res\n",
    "        "
   ]
  },
  {
   "cell_type": "code",
   "execution_count": 84,
   "metadata": {},
   "outputs": [],
   "source": [
    "class Polygon_Iterable:\n",
    "    def __init__(self, m, R):\n",
    "        \n",
    "        if m < 3:\n",
    "            raise ValueError(\"You need at least 3 edges to form a Polygon\")\n",
    "        \n",
    "        self._m = m\n",
    "        self._R = R\n",
    "        \n",
    "    def __len__(self):\n",
    "        return self._m - 2\n",
    "        \n",
    "    def __repr__(self):\n",
    "        return f'{self.__class__.__name__}(m={self._m}, R={self._R})'\n",
    "    \n",
    "    \n",
    "    def __iter__(self):\n",
    "        return Poly_iterator(self._m, self._R)\n",
    "    \n",
    "    \n",
    "    @property\n",
    "    def max_efficiency(self):\n",
    "        efficiency = sorted(Poly_iterator(self._m, self._R), key= lambda x: x.area/x.perimeter, reverse=True)\n",
    "        return efficiency[0]\n",
    "        "
   ]
  },
  {
   "cell_type": "code",
   "execution_count": 85,
   "metadata": {},
   "outputs": [],
   "source": [
    "polygons = Polygon_Iterable(10, 1)"
   ]
  },
  {
   "cell_type": "code",
   "execution_count": 87,
   "metadata": {},
   "outputs": [
    {
     "name": "stdout",
     "output_type": "stream",
     "text": [
      "iterato_called\n",
      "Polygon(n=3, R=1)\n",
      "Polygon(n=4, R=1)\n",
      "Polygon(n=5, R=1)\n",
      "Polygon(n=6, R=1)\n",
      "Polygon(n=7, R=1)\n",
      "Polygon(n=8, R=1)\n",
      "Polygon(n=9, R=1)\n",
      "Polygon(n=10, R=1)\n"
     ]
    }
   ],
   "source": [
    "for p in polygons: \n",
    "    print(p)\n",
    "# we can call this as many time as we want since it is an iterable"
   ]
  },
  {
   "cell_type": "code",
   "execution_count": 94,
   "metadata": {},
   "outputs": [
    {
     "name": "stdout",
     "output_type": "stream",
     "text": [
      "iterator_called\n"
     ]
    }
   ],
   "source": [
    "polygons_iterator = Poly_Iterator(10, 1)"
   ]
  },
  {
   "cell_type": "code",
   "execution_count": 95,
   "metadata": {},
   "outputs": [
    {
     "name": "stdout",
     "output_type": "stream",
     "text": [
      "Polygon(n=3, R=1)\n",
      "Polygon(n=4, R=1)\n",
      "Polygon(n=5, R=1)\n",
      "Polygon(n=6, R=1)\n",
      "Polygon(n=7, R=1)\n",
      "Polygon(n=8, R=1)\n",
      "Polygon(n=9, R=1)\n",
      "Polygon(n=10, R=1)\n"
     ]
    }
   ],
   "source": [
    "for p in polygons_iterator: \n",
    "    print(p)\n",
    "# we can call this only once, since after that the iterator is exahusted"
   ]
  },
  {
   "cell_type": "code",
   "execution_count": null,
   "metadata": {},
   "outputs": [],
   "source": []
  }
 ],
 "metadata": {
  "kernelspec": {
   "display_name": "Python 3 (ipykernel)",
   "language": "python",
   "name": "python3"
  },
  "language_info": {
   "codemirror_mode": {
    "name": "ipython",
    "version": 3
   },
   "file_extension": ".py",
   "mimetype": "text/x-python",
   "name": "python",
   "nbconvert_exporter": "python",
   "pygments_lexer": "ipython3",
   "version": "3.8.10"
  }
 },
 "nbformat": 4,
 "nbformat_minor": 2
}
