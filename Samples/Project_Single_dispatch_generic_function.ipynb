{
 "cells": [
  {
   "cell_type": "markdown",
   "metadata": {},
   "source": [
    "## Single Dispatch Generic Functions\n",
    "First lets define what overloading is:\n",
    "\n",
    "`Overloading` in object oriented programming is the ability to create more then a function with the same name al long as its signature is different (essentially if the two functions are distinguishable, i.e. different number/type of arguments etc..). When the program is compiled, the interpreter will understand, based on the signature at which function with the same name we are referring to. \n",
    "\n",
    "In python, since there is no static typing, we can't declare a function signature, therefore, overloading, in its strict sense, is not possible. A workaround to this problem is called  `single dispatch generic function`, which allows us to overload functions based on the type of the first argument (if we want to consider the type of more arguments we need `multi dispatch`).\n"
   ]
  },
  {
   "cell_type": "markdown",
   "metadata": {},
   "source": []
  },
  {
   "cell_type": "markdown",
   "metadata": {},
   "source": [
    "# `HTMLizer.py`\n",
    "HTMLizer is a library for converting text to HTML. It will make use of single dispatch generic functions to dynamically cache the type of HTML elements encountered."
   ]
  },
  {
   "cell_type": "markdown",
   "metadata": {},
   "source": [
    "As first attempt we are going to create a series of function that are able to convert some types of structure in html format. These will be then the arguments of our single dispatch function, that should, in the end, be able to recognize which type of object is receiving and use the correct function to htmlize the content."
   ]
  },
  {
   "cell_type": "code",
   "execution_count": 2,
   "metadata": {},
   "outputs": [],
   "source": [
    "from html import escape     \n",
    "\n",
    "def html_escape(arg):\n",
    "    return escape(str(arg))\n",
    "\n",
    "def html_int(a):\n",
    "    return f'{a}(<i>{hex(a)}</i>)'\n",
    "\n",
    "def html_real(a):\n",
    "    return f'{round(a):.2f}'\n",
    "\n",
    "def html_str(s):\n",
    "    return html_escape(s).replace('\\n', '<br/>\\n')\n",
    "\n",
    "def html_list(l):\n",
    "    items = (f'<li>{htmlize(item)}</li>' for item in l)\n",
    "    return '<ul>\\n'+'\\n'.join(items)+'\\n</ul>'\n",
    "\n",
    "def html_dict(d):\n",
    "    items = (f'<li>{key}={htmlize(value)}</li>' for key, value in d.items())\n",
    "    return '<ul>\\n' + '\\n'.join(items) + '\\n</ul>'\n",
    "\n",
    "\n",
    "# N.B. the function `htmlize` called in html_list and html_dict is the single dispatcher defined below.\n",
    "# This is possible because python let us call a function in a body of another function if this will\n",
    "# exist before its execution.\n",
    "\n"
   ]
  },
  {
   "cell_type": "code",
   "execution_count": 3,
   "metadata": {},
   "outputs": [
    {
     "name": "stdout",
     "output_type": "stream",
     "text": [
      "This is a very long sentence<br/>\n",
      "that span on multiple lines and contains<br/>\n",
      "special characters 10 &gt; 9 \n"
     ]
    }
   ],
   "source": [
    "print(html_str(\"\"\"This is a very long sentence\n",
    "that span on multiple lines and contains\n",
    "special characters 10 > 9 \"\"\"))"
   ]
  },
  {
   "cell_type": "code",
   "execution_count": 4,
   "metadata": {},
   "outputs": [
    {
     "data": {
      "text/plain": [
       "'100(<i>0x64</i>)'"
      ]
     },
     "execution_count": 4,
     "metadata": {},
     "output_type": "execute_result"
    }
   ],
   "source": [
    "html_int(100)"
   ]
  },
  {
   "cell_type": "markdown",
   "metadata": {},
   "source": [
    "Now let's define the first version of our single dispatcher:    "
   ]
  },
  {
   "cell_type": "code",
   "execution_count": 5,
   "metadata": {},
   "outputs": [],
   "source": [
    "def htmlize(arg):\n",
    "\n",
    "    if isinstance(arg, int): \n",
    "        return html_int(arg)\n",
    "\n",
    "    elif isinstance(arg, float):\n",
    "        return html_real(arg)\n",
    "\n",
    "    elif isinstance(arg, str):\n",
    "        return html_str(arg)\n",
    "\n",
    "    elif isinstance(arg, list) or isinstance(arg, tuple):\n",
    "        return html_list(arg)\n",
    "\n",
    "    elif isinstance(arg, dict):\n",
    "        return html_dict(arg)\n",
    "\n",
    "    else: # if the instance is not included in our functions\n",
    "        return html_escape(arg)"
   ]
  },
  {
   "cell_type": "markdown",
   "metadata": {},
   "source": [
    "Now we can call our single dispatcher on any object and it will automatically select the correct function to transform the output in html format"
   ]
  },
  {
   "cell_type": "code",
   "execution_count": 6,
   "metadata": {},
   "outputs": [
    {
     "name": "stdout",
     "output_type": "stream",
     "text": [
      "<ul>\n",
      "<li>10 &gt; 1 <br/>\n",
      " vero!</li>\n",
      "<li><ul>\n",
      "<li>1(<i>0x1</i>)</li>\n",
      "<li>2(<i>0x2</i>)</li>\n",
      "</ul></li>\n",
      "<li><ul>\n",
      "<li>0=zero</li>\n",
      "</ul></li>\n",
      "</ul>\n"
     ]
    }
   ],
   "source": [
    "print(htmlize(['10 > 1 \\n vero!', (1,2), {0:'zero'}]))"
   ]
  },
  {
   "cell_type": "markdown",
   "metadata": {},
   "source": [
    "Now, it works but there is a fundamental coding problem: each time we need to add a `type` to the dispatcher we need first to write the appropriate function and then to increase the horrendous if elif statement inside the htmlize. Thi is not a good approach since each time we need to go back to our function and implement new code. What we want to achieve is to be able to add instruction to the `htmilize` function from outside its body, i.e. update dynamically it's capability of recognize html formats.\n",
    "\n",
    "As a first step we are going to get rid of the if elif stack and substitute it with a more elegant dictionary."
   ]
  },
  {
   "cell_type": "code",
   "execution_count": 7,
   "metadata": {},
   "outputs": [],
   "source": [
    "def htmlize(arg):\n",
    "\n",
    "    registry = {\n",
    "        object: html_escape, # everything is an object, therefore any unknown type will fall here\n",
    "        int: html_int,\n",
    "        float: html_real,\n",
    "        str: html_str,\n",
    "        list: html_list,\n",
    "        tuple: html_list,\n",
    "        dict: html_dict\n",
    "    }\n",
    "\n",
    "    # Now we check the instance of arg and look up in the dictionary for its associated function\n",
    "\n",
    "    fn = registry.get(type(arg), registry[object]) # if the type(arg) is not found, fall back to key `object`\n",
    "\n",
    "    '''\n",
    "    N.B. the problem is that now we are capturing only the `type` of an object, therefore, if args is something that inherit from,\n",
    "    let's say the object list, the dispatcher won't be able to recognize it. What we should do, but it gets more compicated for now,\n",
    "    is not tu refer to the `type` but to use abstract base classes (import abc) functionalities\n",
    "    '''\n",
    "\n",
    "    return fn(arg)\n"
   ]
  },
  {
   "cell_type": "code",
   "execution_count": 8,
   "metadata": {},
   "outputs": [
    {
     "name": "stdout",
     "output_type": "stream",
     "text": [
      "<ul>\n",
      "<li>1(<i>0x1</i>)</li>\n",
      "<li>2(<i>0x2</i>)</li>\n",
      "<li>3(<i>0x3</i>)</li>\n",
      "</ul>\n"
     ]
    }
   ],
   "source": [
    "print(htmlize([1,2,3]))"
   ]
  },
  {
   "cell_type": "markdown",
   "metadata": {},
   "source": [
    "We have cleaned a lot our htmlize function but we still need to go inside of it each time we want to populate the registry dictionary with new elements"
   ]
  },
  {
   "cell_type": "code",
   "execution_count": 9,
   "metadata": {},
   "outputs": [],
   "source": [
    "def singledispatch(fn):\n",
    "    registry = {}\n",
    "\n",
    "    registry[object] = fn # default function like html_escape\n",
    "\n",
    "    def inner(arg): # single dispatcher == we expect that the function fn we are decorating only requires one argument\n",
    "        return registry[object](arg) # call the function from the registry and then apply it to (arg)\n",
    "\n",
    "    return inner"
   ]
  },
  {
   "cell_type": "code",
   "execution_count": 10,
   "metadata": {},
   "outputs": [
    {
     "data": {
      "text/plain": [
       "'100 &gt; 10'"
      ]
     },
     "execution_count": 10,
     "metadata": {},
     "output_type": "execute_result"
    }
   ],
   "source": [
    "@singledispatch\n",
    "def htmlize(arg):\n",
    "    return escape(str(arg))\n",
    "\n",
    "htmlize('100 > 10')"
   ]
  },
  {
   "cell_type": "markdown",
   "metadata": {},
   "source": [
    "This is essentially a simple decorator that right now make no sense, since it only takes a function and applies it to an argument. But lets expand the concept..\n",
    "\n",
    "We are going to expand the registry with more instruction, like int and str, and now the inner function will look at the type(arg) to decide which key of the registry to choose"
   ]
  },
  {
   "cell_type": "code",
   "execution_count": 11,
   "metadata": {},
   "outputs": [],
   "source": [
    "def singledispatch(fn):\n",
    "    registry = {}\n",
    "\n",
    "    registry[object] = fn # default function like html_escape\n",
    "    registry[int] = lambda a: f'{a}(<i>{hex(a)}</i>)'\n",
    "    registry[str] = lambda s: escape(s).replace('\\n', '<br/>\\n')\n",
    "\n",
    "\n",
    "    def inner(arg): # single dispatcher == we expect that the function fn we are decorating only requires one argument\n",
    "        selected = registry.get(type(arg), registry[object]) # find the association with the type of arg in the registry\n",
    "        return selected(arg) # call the selected function from the registry and then apply it to (arg)\n",
    "\n",
    "    return inner"
   ]
  },
  {
   "cell_type": "markdown",
   "metadata": {},
   "source": [
    "We still need the first decoration of htmlize that return escape(arg) for two reasons: to initialize the registry and to create the key association with the default function (registry[object])"
   ]
  },
  {
   "cell_type": "code",
   "execution_count": 12,
   "metadata": {},
   "outputs": [
    {
     "data": {
      "text/plain": [
       "'100(<i>0x64</i>)'"
      ]
     },
     "execution_count": 12,
     "metadata": {},
     "output_type": "execute_result"
    }
   ],
   "source": [
    "@singledispatch\n",
    "def htmlize(arg):\n",
    "    return escape(str(arg))\n",
    "\n",
    "htmlize(100)"
   ]
  },
  {
   "cell_type": "markdown",
   "metadata": {},
   "source": [
    "Very cool, but we are still writing the function in the registry from inside the single dispatcher and that is not what we want. We want to be able to inject into registry from outside the function! The dispatcher is not generic enough, the registry key and the function associated are still hardcoded!\n",
    "\n",
    "To do this we are going to create a decorator factory (a decorator that takes arguments, also called parametrized decorator) inside the single dispatcher. The scope of this decorator is to assign the key value pairs inside the registry. This is possible because `registry` (the decorator factory) lives inside the local scope of `singledispatch` and therefore have access to its free variable `registry` (nonlocal variable from the decorator point of view)."
   ]
  },
  {
   "cell_type": "code",
   "execution_count": 13,
   "metadata": {},
   "outputs": [],
   "source": [
    "def singledispatch(fn):\n",
    "    registry = {}\n",
    "\n",
    "    registry[object] = fn # default function like html_escape\n",
    "\n",
    "    def decorated(arg): # changed the name to highlight the scope of this decorator\n",
    "        selected = registry.get(type(arg), registry[object]) # find the association with the type of arg in the registry\n",
    "        return selected(arg) # call the selected function from the registry and then apply it to (arg)\n",
    "\n",
    "    def register(type_): # decorator factory that takes the type of arg\n",
    "\n",
    "        def inner(fn): # actual decorator that take the function to associate with type(arg)\n",
    "            registry[type_] = fn # registry is a nonlocal variable of single dispatch so we have access to it\n",
    "            return fn\n",
    "\n",
    "        return inner\n",
    "    \n",
    "    return decorated\n"
   ]
  },
  {
   "cell_type": "code",
   "execution_count": 32,
   "metadata": {},
   "outputs": [
    {
     "data": {
      "text/plain": [
       "<function __main__.singledispatch.<locals>.decorated(arg)>"
      ]
     },
     "execution_count": 32,
     "metadata": {},
     "output_type": "execute_result"
    }
   ],
   "source": [
    "@singledispatch\n",
    "def htmlize(arg):\n",
    "    return escape(str(arg))\n",
    "\n",
    "htmlize # htmlize has become the `decorated`` function"
   ]
  },
  {
   "cell_type": "markdown",
   "metadata": {},
   "source": [
    "As we can see now `htmlize` is has been decorated by the single dispatcher, and since it has only the default registry value associated to `escape(str(arg))`, it can do nothing more than that. e.g. if we call hmtlize on an int it will just escape it"
   ]
  },
  {
   "cell_type": "code",
   "execution_count": 15,
   "metadata": {},
   "outputs": [
    {
     "data": {
      "text/plain": [
       "'100'"
      ]
     },
     "execution_count": 15,
     "metadata": {},
     "output_type": "execute_result"
    }
   ],
   "source": [
    "htmlize(100)"
   ]
  },
  {
   "cell_type": "markdown",
   "metadata": {},
   "source": [
    "The problem now is how to get to the `registry` function and to be able to access it from outside the single dispatcher.\n",
    "\n",
    "The solution is elegant and easy, we assign registry as an attribute of the `decorated` function that the single dispatcher is returning (? is this actually monkey patching?)"
   ]
  },
  {
   "cell_type": "code",
   "execution_count": 16,
   "metadata": {},
   "outputs": [],
   "source": [
    "def singledispatch(fn):\n",
    "    registry = {}\n",
    "\n",
    "    registry[object] = fn \n",
    "\n",
    "    def decorated(arg): \n",
    "        selected = registry.get(type(arg), registry[object]) \n",
    "        return selected(arg) \n",
    "\n",
    "    def register(type_): \n",
    "\n",
    "        def inner(fn): \n",
    "            registry[type_] = fn \n",
    "            return fn\n",
    "\n",
    "        return inner\n",
    "\n",
    "    '''\n",
    "    we assign `register` as an attribute to `decorated`\n",
    "    in this way, since `singledispatch` is returning\n",
    "    `decorated`, we are able to access `register` from the outside\n",
    "    '''\n",
    "    decorated.register = register\n",
    "\n",
    "    '''\n",
    "    N.B. the .register is arbitrary, is just the name we are giving to\n",
    "    the attribute of `decorated`, to which we assign the `register` \n",
    "    decorator factory\n",
    "    '''\n",
    "\n",
    "    return decorated"
   ]
  },
  {
   "cell_type": "markdown",
   "metadata": {},
   "source": [
    "Now if we decorate `htmlize` we are going to able to access `register`"
   ]
  },
  {
   "cell_type": "code",
   "execution_count": 17,
   "metadata": {},
   "outputs": [
    {
     "data": {
      "text/plain": [
       "<function __main__.singledispatch.<locals>.register(type_)>"
      ]
     },
     "execution_count": 17,
     "metadata": {},
     "output_type": "execute_result"
    }
   ],
   "source": [
    "@singledispatch\n",
    "def htmlize(arg):\n",
    "    return escape(str(arg))\n",
    "\n",
    "htmlize.register"
   ]
  },
  {
   "cell_type": "markdown",
   "metadata": {},
   "source": [
    "Here we go, now we are use `register`, i.e. to use the decorator factory to populate the `registry` dictionary. \n",
    "\n",
    "`register` is coded so that it can receive an argument (type_) and `htmlize.register(int)` actually returns a decorator (the function `inner` inside `register`). Therefore, we can use it to decorate our function (for example `html_int`) passing the `type()` we want to associate to this function as the argument of `register`."
   ]
  },
  {
   "cell_type": "code",
   "execution_count": 18,
   "metadata": {},
   "outputs": [],
   "source": [
    "@htmlize.register(int)\n",
    "def html_int(a):\n",
    "    return f'{a}(<i>{hex(a)}</i>)'"
   ]
  },
  {
   "cell_type": "markdown",
   "metadata": {},
   "source": [
    "N.B. the role of the decorator is only to insert the pairs (type: html_function) in the dictionary `registry`. The function itself is not touched\n",
    "\n",
    "\n",
    "```py\n",
    "def register(type_): \n",
    "\n",
    "        def inner(fn): \n",
    "            registry[type_] = fn \n",
    "            return fn # <---\n",
    "            '''\n",
    "            N.B. we are returning fn and not the inner function.\n",
    "            In a general decorator factory we would have another closure \n",
    "            inside inner, and that would be the return.\n",
    "            '''\n",
    "        return inner\n",
    "```\n",
    "\n",
    "As a matter of fact, if we look inside the html_int function, it is still itself and not is decorated version."
   ]
  },
  {
   "cell_type": "code",
   "execution_count": 19,
   "metadata": {},
   "outputs": [
    {
     "data": {
      "text/plain": [
       "<function __main__.html_int(a)>"
      ]
     },
     "execution_count": 19,
     "metadata": {},
     "output_type": "execute_result"
    }
   ],
   "source": [
    "html_int"
   ]
  },
  {
   "cell_type": "markdown",
   "metadata": {},
   "source": [
    "but if we call the function `htmlize` on an integer, it will correctly look in the registry and find the association `int`:`html_int`"
   ]
  },
  {
   "cell_type": "code",
   "execution_count": 20,
   "metadata": {},
   "outputs": [
    {
     "data": {
      "text/plain": [
       "'100(<i>0x64</i>)'"
      ]
     },
     "execution_count": 20,
     "metadata": {},
     "output_type": "execute_result"
    }
   ],
   "source": [
    "htmlize(100)"
   ]
  },
  {
   "cell_type": "markdown",
   "metadata": {},
   "source": [
    "In the same way now we are able to \"register\" into the `registry` dictionary every functions we need to htmlize our code, without the need to hardcode the `htmlize` function directly (it can even be imported from another module)."
   ]
  },
  {
   "cell_type": "code",
   "execution_count": 22,
   "metadata": {},
   "outputs": [],
   "source": [
    "@htmlize.register(str)\n",
    "def html_str(s):\n",
    "    return escape(s).replace('\\n', '<br/>\\n')\n",
    "\n",
    "@htmlize.register(list)\n",
    "def html_list(l):\n",
    "    items = (f'<li>{htmlize(item)}</li>' for item in l)\n",
    "    return '<ul>\\n'+'\\n'.join(items)+'\\n</ul>'"
   ]
  },
  {
   "cell_type": "markdown",
   "metadata": {},
   "source": [
    "Since the decorator return the function without modifying it, we can stack multiple decorators in order to associate the same functions to more then one key (type)."
   ]
  },
  {
   "cell_type": "code",
   "execution_count": 23,
   "metadata": {},
   "outputs": [],
   "source": [
    "@htmlize.register(tuple)\n",
    "@htmlize.register(list)\n",
    "def html_sequence(l):\n",
    "    items = (f'<li>{htmlize(item)}</li>' for item in l)\n",
    "    return '<ul>\\n'+'\\n'.join(items)+'\\n</ul>'"
   ]
  },
  {
   "cell_type": "markdown",
   "metadata": {},
   "source": [
    "Now, something useful that is missing is the possibility to access the `registry` dictionary to be able to see which functions have been registered. To do this, we only need to add another property to the `decorated` function, in the same way we have done to apply the `regisrter` property."
   ]
  },
  {
   "cell_type": "code",
   "execution_count": 24,
   "metadata": {},
   "outputs": [],
   "source": [
    "def singledispatch(fn):\n",
    "    registry = {}\n",
    "\n",
    "    registry[object] = fn \n",
    "\n",
    "    def decorated(arg): \n",
    "        selected = registry.get(type(arg), registry[object]) \n",
    "        return selected(arg) \n",
    "\n",
    "    def register(type_): \n",
    "\n",
    "        def inner(fn): \n",
    "            registry[type_] = fn \n",
    "            return fn\n",
    "\n",
    "        return inner\n",
    "\n",
    "    decorated.register = register\n",
    "    decorated.registry = registry\n",
    "\n",
    "    return decorated"
   ]
  },
  {
   "cell_type": "markdown",
   "metadata": {},
   "source": [
    "Now we can access the registry property from htmlize and see that already contains the default association with the `object` type."
   ]
  },
  {
   "cell_type": "code",
   "execution_count": 29,
   "metadata": {},
   "outputs": [
    {
     "data": {
      "text/plain": [
       "{object: <function __main__.htmlize(arg)>}"
      ]
     },
     "execution_count": 29,
     "metadata": {},
     "output_type": "execute_result"
    }
   ],
   "source": [
    "@singledispatch\n",
    "def htmlize(arg):\n",
    "    return escape(str(arg))\n",
    "\n",
    "htmlize.registry"
   ]
  },
  {
   "cell_type": "code",
   "execution_count": 31,
   "metadata": {},
   "outputs": [
    {
     "data": {
      "text/plain": [
       "{object: <function __main__.htmlize(arg)>,\n",
       " str: <function __main__.html_str(s)>,\n",
       " list: <function __main__.html_sequence(l)>,\n",
       " tuple: <function __main__.html_sequence(l)>}"
      ]
     },
     "execution_count": 31,
     "metadata": {},
     "output_type": "execute_result"
    }
   ],
   "source": [
    "@htmlize.register(str)\n",
    "def html_str(s):\n",
    "    return escape(s).replace('\\n', '<br/>\\n')\n",
    "\n",
    "@htmlize.register(tuple)\n",
    "@htmlize.register(list)\n",
    "def html_sequence(l):\n",
    "    items = (f'<li>{htmlize(item)}</li>' for item in l)\n",
    "    return '<ul>\\n'+'\\n'.join(items)+'\\n</ul>'\n",
    "\n",
    "htmlize.registry"
   ]
  },
  {
   "cell_type": "markdown",
   "metadata": {},
   "source": [
    "N.B. this is something that I usually don't want in production environment; I don't want the user to have access to the registry dictionary.\n",
    "\n",
    "Something more appropriated would be to allow the user to be able to access indirectly the `registry` to find which function is associated with a particular `type`. Therefore, we create a dispatch function that take a type as argument and, if exists, return the associated value in the dictionary or the default `object` otherwise. Again, the only way to be able to access it from the outside is to make it a property of the `decorated` function, that is returned after decorating the  "
   ]
  },
  {
   "cell_type": "code",
   "execution_count": 34,
   "metadata": {},
   "outputs": [],
   "source": [
    "def singledispatch(fn):\n",
    "    registry = {}\n",
    "\n",
    "    registry[object] = fn \n",
    "\n",
    "    def decorated(arg): \n",
    "        selected = registry.get(type(arg), registry[object]) \n",
    "        return selected(arg) \n",
    "\n",
    "    def register(type_): \n",
    "\n",
    "        def inner(fn): \n",
    "            registry[type_] = fn \n",
    "            return fn\n",
    "\n",
    "        return inner\n",
    "\n",
    "    def dispatch(type_): # has the same behavior of `decorated` except that doesn't call the function\n",
    "        selected = registry.get(type_, registry[object]) \n",
    "        return selected\n",
    "\n",
    "\n",
    "    decorated.register = register\n",
    "    #decorated.registry = registry # use only for debug\n",
    "    decorated.dispatch = dispatch \n",
    "\n",
    "    return decorated"
   ]
  },
  {
   "cell_type": "markdown",
   "metadata": {},
   "source": [
    "Now we call the dispatch function on a particular type and see what and if there is something associated with it in the registry dictionary."
   ]
  },
  {
   "cell_type": "code",
   "execution_count": 35,
   "metadata": {},
   "outputs": [
    {
     "data": {
      "text/plain": [
       "<function __main__.html_sequence(l)>"
      ]
     },
     "execution_count": 35,
     "metadata": {},
     "output_type": "execute_result"
    }
   ],
   "source": [
    "@singledispatch\n",
    "def htmlize(arg):\n",
    "    return escape(str(arg))\n",
    "\n",
    "@htmlize.register(str)\n",
    "def html_str(s):\n",
    "    return escape(s).replace('\\n', '<br/>\\n')\n",
    "\n",
    "@htmlize.register(tuple)\n",
    "@htmlize.register(list)\n",
    "def html_sequence(l):\n",
    "    items = (f'<li>{htmlize(item)}</li>' for item in l)\n",
    "    return '<ul>\\n'+'\\n'.join(items)+'\\n</ul>'\n",
    "\n",
    "htmlize.dispatch(list)"
   ]
  },
  {
   "cell_type": "markdown",
   "metadata": {},
   "source": [
    "Everything works just fine! But.. there is a but, a limitation given by the fact that we are looking at the `type` of the argument passed to our htmlize function, and this can be abstracted to a lower level using `abstract baseclass`. For example, list and tuples both inherit from the abstract `sequence` class, as well as int and boolean that comes from the `integral` class.\n",
    "\n",
    "Of course, python is a battery-included programming language and it has in the standard library a single dispatcher that is able to use abstract base class:"
   ]
  },
  {
   "cell_type": "code",
   "execution_count": 47,
   "metadata": {},
   "outputs": [],
   "source": [
    "from functools import singledispatch\n",
    "from numbers import Integral\n",
    "from collections.abc import Sequence\n",
    "\n",
    "@singledispatch\n",
    "def htmlize(arg):\n",
    "    return escape(str(arg))"
   ]
  },
  {
   "cell_type": "markdown",
   "metadata": {},
   "source": [
    "In the same way as we defined our dispatcher, it is possible to access the registry, to register and dispatch function"
   ]
  },
  {
   "cell_type": "code",
   "execution_count": 48,
   "metadata": {},
   "outputs": [
    {
     "data": {
      "text/plain": [
       "mappingproxy({object: <function __main__.htmlize(arg)>})"
      ]
     },
     "execution_count": 48,
     "metadata": {},
     "output_type": "execute_result"
    }
   ],
   "source": [
    "htmlize.registry"
   ]
  },
  {
   "cell_type": "code",
   "execution_count": 49,
   "metadata": {},
   "outputs": [
    {
     "data": {
      "text/plain": [
       "<function functools.singledispatch.<locals>.dispatch(cls)>"
      ]
     },
     "execution_count": 49,
     "metadata": {},
     "output_type": "execute_result"
    }
   ],
   "source": [
    "htmlize.dispatch"
   ]
  },
  {
   "cell_type": "markdown",
   "metadata": {},
   "source": [
    "The main difference is that the built-in dispatcher doesn't look at the type() attribute and it is able to recognize the abstract base class of objects."
   ]
  }
 ],
 "metadata": {
  "interpreter": {
   "hash": "b66e1d652d26545cf719f53d79fc7f17380815b403cf9c9ba2b908f3efa6c6a8"
  },
  "kernelspec": {
   "display_name": "Python 3.8.10 64-bit ('venv': venv)",
   "language": "python",
   "name": "python3"
  },
  "language_info": {
   "codemirror_mode": {
    "name": "ipython",
    "version": 3
   },
   "file_extension": ".py",
   "mimetype": "text/x-python",
   "name": "python",
   "nbconvert_exporter": "python",
   "pygments_lexer": "ipython3",
   "version": "3.8.10"
  },
  "orig_nbformat": 4
 },
 "nbformat": 4,
 "nbformat_minor": 2
}
