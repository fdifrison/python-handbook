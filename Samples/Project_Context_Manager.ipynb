{
 "cells": [
  {
   "cell_type": "markdown",
   "metadata": {},
   "source": [
    "# Project Context Manager\n",
    "\n",
    "Let's build a context manager that is also a lazy iterator to open two files `cars.csv` and `personal_info.csv`\n",
    "\n",
    "## [Goal 1](#Goal-1)\n",
    "Do it with a custom class\n",
    "## [Goal 2](#Goal-2)\n",
    "Do it with a generator function"
   ]
  },
  {
   "cell_type": "markdown",
   "metadata": {},
   "source": [
    "### Goal 1"
   ]
  },
  {
   "cell_type": "code",
   "execution_count": 17,
   "metadata": {},
   "outputs": [],
   "source": [
    "# import modules\n",
    "import csv\n",
    "from collections import namedtuple\n",
    "from itertools import islice"
   ]
  },
  {
   "cell_type": "code",
   "execution_count": 2,
   "metadata": {},
   "outputs": [
    {
     "data": {
      "text/plain": [
       "('cars.csv', 'personal_info.csv')"
      ]
     },
     "execution_count": 2,
     "metadata": {},
     "output_type": "execute_result"
    }
   ],
   "source": [
    "# navigate to data folder\n",
    "import os\n",
    "\n",
    "os.chdir('./Project_Context_Manager_data')\n",
    "f_names = tuple(os.listdir())\n",
    "f_names"
   ]
  },
  {
   "cell_type": "markdown",
   "metadata": {},
   "source": [
    "First let's take a look to what there is inside the files:"
   ]
  },
  {
   "cell_type": "code",
   "execution_count": 3,
   "metadata": {},
   "outputs": [
    {
     "name": "stdout",
     "output_type": "stream",
     "text": [
      "Car;MPG;Cylinders;Displacement;Horsepower;Weight;Acceleration;Model;Origin\n",
      "Chevrolet Chevelle Malibu;18.0;8;307.0;130.0;3504.;12.0;70;US\n",
      "****************************************\n",
      "ssn,first_name,last_name,gender,language\n",
      "100-53-9824,Sebastiano,Tester,Male,Icelandic\n",
      "****************************************\n"
     ]
    }
   ],
   "source": [
    "for file in f_names:\n",
    "    with open(file) as f:\n",
    "        print(next(f), end='')\n",
    "        print(next(f), end='')\n",
    "    print('*'*40)"
   ]
  },
  {
   "cell_type": "markdown",
   "metadata": {},
   "source": [
    "First we can notice that the headers are not all lower_case, as the python best-practice wants, and then the major problem is that we don't have the same separator in the two files (the same `dialect` to be precise), therefore, we can use the same set-up for our csv.reader. Instead we are going to let csv guess what are the separators using the `Sniffer` method. to do this, we need to pass a sample of the data we are going to read."
   ]
  },
  {
   "cell_type": "code",
   "execution_count": 8,
   "metadata": {},
   "outputs": [
    {
     "name": "stdout",
     "output_type": "stream",
     "text": [
      "{'__module__': 'csv', '_name': 'sniffed', 'lineterminator': '\\r\\n', 'quoting': 0, '__doc__': None, 'doublequote': False, 'delimiter': ';', 'quotechar': '\"', 'skipinitialspace': False}\n"
     ]
    }
   ],
   "source": [
    "with open(f_names[0]) as f:\n",
    "    dialect = csv.Sniffer().sniff(f.read(1000))\n",
    "    \n",
    "print(vars(dialect))"
   ]
  },
  {
   "cell_type": "markdown",
   "metadata": {},
   "source": [
    "It works! the sniffer perfeclty understood the dialect of the file. Now we are goin to write an utility function to be used in the reading process."
   ]
  },
  {
   "cell_type": "code",
   "execution_count": 9,
   "metadata": {},
   "outputs": [],
   "source": [
    "def get_dialect(f_name):\n",
    "    with open(f_name) as f:\n",
    "        return csv.Sniffer().sniff(f.read(1000))"
   ]
  },
  {
   "cell_type": "markdown",
   "metadata": {},
   "source": [
    "Now, what is left to do is to create a class than implement both the iterator and the context manager protocol, that will lazily return a namedtuple of the data."
   ]
  },
  {
   "cell_type": "code",
   "execution_count": 14,
   "metadata": {},
   "outputs": [],
   "source": [
    "class FileParser:\n",
    "    def __init__(self, f_name):\n",
    "        self.f_name = f_name\n",
    "        \n",
    "    def __enter__(self):\n",
    "        self._f = open(self.f_name, 'r')\n",
    "        self._reader = csv.reader(self._f, get_dialect(self.f_name)) # create the reader\n",
    "        # parse the first line to create the namedtuple arguments\n",
    "        headers = map(lambda x: x.lower(), next(self._reader)) \n",
    "        # create the namedtuple\n",
    "        self._nt = namedtuple('Data', headers)\n",
    "        return self # return a context manager -> FileParser\n",
    "    \n",
    "    def __exit__(self, exc_type, exc_val, exc_tb):\n",
    "        self._f.close()\n",
    "        return False # don't silence the possible exceptions\n",
    "    \n",
    "    def __iter__(self):\n",
    "        return self\n",
    "    \n",
    "    def __next__(self):\n",
    "        # to avoid an exception due to a closed file (if calling next from outside the with block)\n",
    "        # we are going to raise our own exception as a StopIteration since it is more pertinent to our\n",
    "        # lazy iterator\n",
    "        if self._f.closed:\n",
    "            raise StopIteration # if the file is closed you cannot iterate\n",
    "        else:\n",
    "            # next has to return the new row of the file as a namedtuple\n",
    "            return self._nt(*next(self._reader))       "
   ]
  },
  {
   "cell_type": "code",
   "execution_count": 16,
   "metadata": {},
   "outputs": [
    {
     "name": "stdout",
     "output_type": "stream",
     "text": [
      "Data(car='Chevrolet Chevelle Malibu', mpg='18.0', cylinders='8', displacement='307.0', horsepower='130.0', weight='3504.', acceleration='12.0', model='70', origin='US')\n",
      "Data(car='Buick Skylark 320', mpg='15.0', cylinders='8', displacement='350.0', horsepower='165.0', weight='3693.', acceleration='11.5', model='70', origin='US')\n"
     ]
    }
   ],
   "source": [
    "with FileParser(f_names[0]) as data:\n",
    "    for row in islice(data, 2):\n",
    "        print(row)"
   ]
  },
  {
   "cell_type": "markdown",
   "metadata": {},
   "source": [
    "### Goal 2"
   ]
  },
  {
   "cell_type": "code",
   "execution_count": 21,
   "metadata": {},
   "outputs": [],
   "source": [
    "# import modules\n",
    "from contextlib import contextmanager"
   ]
  },
  {
   "cell_type": "markdown",
   "metadata": {},
   "source": [
    "First lets create the iterator that will be yielded by our generator context manager. Given the csv.reader and the namedtuple, the following function will return the namedtuple populated with the data."
   ]
  },
  {
   "cell_type": "code",
   "execution_count": 22,
   "metadata": {},
   "outputs": [],
   "source": [
    "def parsed_data_iter(data_iter, nt):\n",
    "    for row in data_iter:\n",
    "        yield nt(*row)"
   ]
  },
  {
   "cell_type": "markdown",
   "metadata": {},
   "source": [
    "Now, let's write the context manager as a generator function, leveraging the contextlib.contextmanger decorator"
   ]
  },
  {
   "cell_type": "code",
   "execution_count": 24,
   "metadata": {},
   "outputs": [],
   "source": [
    "@contextmanager\n",
    "def gen_like_ctxManager(f_name):\n",
    "    f = open(f_name, 'r')\n",
    "    # define the enter exit method with try-finally\n",
    "    try:\n",
    "        reader = csv.reader(f, get_dialect(f_name))\n",
    "        header = map(lambda x: x.lower(), next(reader))\n",
    "        nt = namedtuple('Data', header)\n",
    "        # now yield the iterator\n",
    "        yield parsed_data_iter(reader, nt)\n",
    "        \n",
    "    finally:\n",
    "        f.close()    "
   ]
  },
  {
   "cell_type": "code",
   "execution_count": 26,
   "metadata": {},
   "outputs": [
    {
     "name": "stdout",
     "output_type": "stream",
     "text": [
      "Data(ssn='100-53-9824', first_name='Sebastiano', last_name='Tester', gender='Male', language='Icelandic')\n",
      "Data(ssn='101-71-4702', first_name='Cayla', last_name='MacDonagh', gender='Female', language='Lao')\n"
     ]
    }
   ],
   "source": [
    "with gen_like_ctxManager(f_names[1]) as data:\n",
    "    for row in islice(data, 2):\n",
    "        print(row)"
   ]
  },
  {
   "cell_type": "markdown",
   "metadata": {},
   "source": [
    "Finally we can do some clean-up to create a function that is more selfcontained, since the utility function we wrote are striclty related to what is happening inside the generator context manager."
   ]
  },
  {
   "cell_type": "code",
   "execution_count": 34,
   "metadata": {},
   "outputs": [],
   "source": [
    "@contextmanager\n",
    "def gen_like_ctxManager_cleaned(f_name):\n",
    "    f = open(f_name, 'r')\n",
    "    # define the enter exit method with try-finally\n",
    "    try:\n",
    "        dialect = csv.Sniffer().sniff(f.read(1000))\n",
    "        f.seek(0) # rewind to the beginning of the file since we read 1000 lines to guess the dialect\n",
    "        reader = csv.reader(f, dialect)\n",
    "        header = map(lambda x: x.lower(), next(reader))\n",
    "        nt = namedtuple('Data', header)\n",
    "        # now yield the iterator\n",
    "        yield (nt(*row) for row in reader)\n",
    "        \n",
    "    finally:\n",
    "        f.close()    "
   ]
  },
  {
   "cell_type": "code",
   "execution_count": 35,
   "metadata": {},
   "outputs": [
    {
     "name": "stdout",
     "output_type": "stream",
     "text": [
      "Data(ssn='100-53-9824', first_name='Sebastiano', last_name='Tester', gender='Male', language='Icelandic')\n",
      "Data(ssn='101-71-4702', first_name='Cayla', last_name='MacDonagh', gender='Female', language='Lao')\n"
     ]
    }
   ],
   "source": [
    "with gen_like_ctxManager_cleaned(f_names[1]) as data:\n",
    "    for row in islice(data, 2):\n",
    "        print(row)"
   ]
  },
  {
   "cell_type": "code",
   "execution_count": null,
   "metadata": {},
   "outputs": [],
   "source": []
  }
 ],
 "metadata": {
  "kernelspec": {
   "display_name": "Python 3 (ipykernel)",
   "language": "python",
   "name": "python3"
  },
  "language_info": {
   "codemirror_mode": {
    "name": "ipython",
    "version": 3
   },
   "file_extension": ".py",
   "mimetype": "text/x-python",
   "name": "python",
   "nbconvert_exporter": "python",
   "pygments_lexer": "ipython3",
   "version": "3.10.4"
  }
 },
 "nbformat": 4,
 "nbformat_minor": 4
}
