{
 "cells": [
  {
   "cell_type": "markdown",
   "metadata": {},
   "source": [
    "# CSV Lazy Parser - NYC parking Tickets\n",
    "\n",
    "## Goal 1\n",
    "Create a Lazy iterator that parse the .csv file and store each row in a namedtuple"
   ]
  },
  {
   "cell_type": "code",
   "execution_count": 1,
   "metadata": {},
   "outputs": [],
   "source": [
    "file = 'nyc_parking_tickets_extract.csv'"
   ]
  },
  {
   "cell_type": "code",
   "execution_count": 2,
   "metadata": {},
   "outputs": [],
   "source": [
    "# navigate to data folder\n",
    "import os\n",
    "\n",
    "os.chdir('./Project_CSV_Lazy_Parser_data')"
   ]
  },
  {
   "cell_type": "markdown",
   "metadata": {},
   "source": [
    "First, lets pars the columns header and clean them"
   ]
  },
  {
   "cell_type": "code",
   "execution_count": 3,
   "metadata": {},
   "outputs": [],
   "source": [
    "with open(file) as f:\n",
    "    header = next(f).strip('\\n').split(',')\n",
    "    header = [h.replace(' ', '_').lower() for h in header]"
   ]
  },
  {
   "cell_type": "code",
   "execution_count": 4,
   "metadata": {},
   "outputs": [
    {
     "data": {
      "text/plain": [
       "['summons_number',\n",
       " 'plate_id',\n",
       " 'registration_state',\n",
       " 'plate_type',\n",
       " 'issue_date',\n",
       " 'violation_code',\n",
       " 'vehicle_body_type',\n",
       " 'vehicle_make',\n",
       " 'violation_description']"
      ]
     },
     "execution_count": 4,
     "metadata": {},
     "output_type": "execute_result"
    }
   ],
   "source": [
    "header"
   ]
  },
  {
   "cell_type": "markdown",
   "metadata": {},
   "source": [
    "Now we can create our namedTuple that we'll have the element of header as keyword"
   ]
  },
  {
   "cell_type": "code",
   "execution_count": 4,
   "metadata": {},
   "outputs": [],
   "source": [
    "from collections import namedtuple\n",
    "Ticket =  namedtuple('Ticket', header)"
   ]
  },
  {
   "cell_type": "markdown",
   "metadata": {},
   "source": [
    "Now we can read the rest of the data"
   ]
  },
  {
   "cell_type": "code",
   "execution_count": 5,
   "metadata": {},
   "outputs": [],
   "source": [
    "def read_data():\n",
    "    with open(file) as f:\n",
    "        next(f) # skip the header\n",
    "        yield from f"
   ]
  },
  {
   "cell_type": "code",
   "execution_count": 6,
   "metadata": {},
   "outputs": [],
   "source": [
    "raw_data = read_data()"
   ]
  },
  {
   "cell_type": "code",
   "execution_count": 7,
   "metadata": {},
   "outputs": [
    {
     "data": {
      "text/plain": [
       "'4006478550,VAD7274,VA,PAS,10/5/2016,5,4D,BMW,BUS LANE VIOLATION\\n'"
      ]
     },
     "execution_count": 7,
     "metadata": {},
     "output_type": "execute_result"
    }
   ],
   "source": [
    "next(raw_data)"
   ]
  },
  {
   "cell_type": "markdown",
   "metadata": {},
   "source": [
    "Then we are going to assign a data type to each column. To do this we have to define a specific cleaning function for each data type we expect to encounter. We also need to handle possible exception if case a value is missing or is in a different format than expected    "
   ]
  },
  {
   "cell_type": "code",
   "execution_count": 24,
   "metadata": {},
   "outputs": [],
   "source": [
    "def parse_int(value, *, default=None):\n",
    "    try:\n",
    "        cleaned = int(value)\n",
    "        return cleaned\n",
    "    except ValueError:\n",
    "        return default\n",
    "    \n",
    "def parse_str(value, *, default=None):\n",
    "    try:\n",
    "        cleaned = value.strip()\n",
    "        if not cleaned:\n",
    "            return default\n",
    "        else:\n",
    "            return cleaned\n",
    "    except ValueError:\n",
    "        return default\n",
    "    \n",
    "def parse_date(value, *, default=None):\n",
    "    from datetime import datetime\n",
    "    format_ = '%m/%d/%Y'\n",
    "    try:\n",
    "        return datetime.strptime(value, format_).date()\n",
    "    except ValueError:\n",
    "        return default    "
   ]
  },
  {
   "cell_type": "markdown",
   "metadata": {},
   "source": [
    "Now we have to hard code the association between the parsing function and the columns data types. To be able to specify different defalts values we need to use a partial function (or a lambda) different for each field. (Otherwise we can't specify the default beacuse we would essentially be calling the function but withou specifying the `value` field -> i.e. not possible)"
   ]
  },
  {
   "cell_type": "code",
   "execution_count": 36,
   "metadata": {},
   "outputs": [],
   "source": [
    "from functools import partial\n",
    "\n",
    "colums_dtype_parser = (parse_int, # summon_number\n",
    "                       parse_str, # plate_id\n",
    "                       lambda x: parse_str(x, default=''), # registration_state\n",
    "                       partial(parse_str, default=''), # plate_type\n",
    "                       parse_date, # issue_date\n",
    "                       parse_int, # violation_code\n",
    "                       partial(parse_str, default=''), # vehicle_body_type\n",
    "                       parse_str, # vehicle_make\n",
    "                       partial(parse_str, default=''), # violation description\n",
    "                      )"
   ]
  },
  {
   "cell_type": "markdown",
   "metadata": {},
   "source": [
    "We defaulted some values to an empty string because we want to be able to differentiate what, in our arbitrary opinion, is a mandatory field. Only the fields that will default to `None` are mandatory, and therefore we will have to check later on if any value in the row is `None`, and if it is, then we will discard the row.\n",
    "\n",
    "Now we can create the function devoted to the row parsing"
   ]
  },
  {
   "cell_type": "code",
   "execution_count": 37,
   "metadata": {},
   "outputs": [],
   "source": [
    "def parse_row(row):\n",
    "    row = row.strip('\\n').split(',')\n",
    "    row = (func(r) for func, r in zip(colums_dtype_parser, row))\n",
    "    return row\n",
    "    "
   ]
  },
  {
   "cell_type": "code",
   "execution_count": 38,
   "metadata": {},
   "outputs": [],
   "source": [
    "raw_data = read_data()"
   ]
  },
  {
   "cell_type": "code",
   "execution_count": 39,
   "metadata": {},
   "outputs": [
    {
     "data": {
      "text/plain": [
       "'4006478550,VAD7274,VA,PAS,10/5/2016,5,4D,BMW,BUS LANE VIOLATION\\n'"
      ]
     },
     "execution_count": 39,
     "metadata": {},
     "output_type": "execute_result"
    }
   ],
   "source": [
    "next(raw_data)"
   ]
  },
  {
   "cell_type": "code",
   "execution_count": 40,
   "metadata": {},
   "outputs": [
    {
     "name": "stdout",
     "output_type": "stream",
     "text": [
      "[4006462396, '22834JK', 'NY', 'COM', datetime.date(2016, 9, 30), 5, 'VAN', 'CHEVR', 'BUS LANE VIOLATION']\n",
      "[4007117810, '21791MG', 'NY', 'COM', datetime.date(2017, 4, 10), 5, 'VAN', 'DODGE', 'BUS LANE VIOLATION']\n",
      "[4006265037, 'FZX9232', 'NY', 'PAS', datetime.date(2016, 8, 23), 5, 'SUBN', 'FORD', 'BUS LANE VIOLATION']\n",
      "[4006535600, 'N203399C', 'NY', 'OMT', datetime.date(2016, 10, 19), 5, 'SUBN', 'FORD', 'BUS LANE VIOLATION']\n",
      "[4007156700, '92163MG', 'NY', 'COM', datetime.date(2017, 4, 13), 5, 'VAN', 'FRUEH', 'BUS LANE VIOLATION']\n"
     ]
    }
   ],
   "source": [
    "for _ in range(5):\n",
    "    row = next(raw_data)\n",
    "    parsed_row = parse_row(row)\n",
    "    print(list(parsed_row))"
   ]
  },
  {
   "cell_type": "markdown",
   "metadata": {},
   "source": [
    "To check if no Falsy data is contained in each row (and therefore decide to discard it) we can use the `all` and `any` python methods. Basically, `all` return `True` only if all the elements in a sequence evaluate to `True`, while `any`, return `True` if at least one element evaluate to `True` "
   ]
  },
  {
   "cell_type": "code",
   "execution_count": 43,
   "metadata": {},
   "outputs": [
    {
     "data": {
      "text/plain": [
       "(True, False, True, False)"
      ]
     },
     "execution_count": 43,
     "metadata": {},
     "output_type": "execute_result"
    }
   ],
   "source": [
    "all([1,2,3]), all(['', 1, 2]), any(['', 0, 1]), any(['', 0, None])"
   ]
  },
  {
   "cell_type": "markdown",
   "metadata": {},
   "source": [
    "In particular, we want to be able to see if a `None` is inside the row, therefore being able to discard it. A clever way to do it is to create an expression that evaluate True if `None` is in the sequence"
   ]
  },
  {
   "cell_type": "code",
   "execution_count": 50,
   "metadata": {},
   "outputs": [
    {
     "data": {
      "text/plain": [
       "(True, False)"
      ]
     },
     "execution_count": 50,
     "metadata": {},
     "output_type": "execute_result"
    }
   ],
   "source": [
    "test1 = ['', 0, 'valid'] # we have 2 Falsy element but no one is None\n",
    "test2 = ['', 0, 'valid', None] # we have 3 values that evaluate to false but we want only to catch the None\n",
    "check1 = all(t is not None for t in test1)\n",
    "check2 = all(t is not None for t in test2)\n",
    "check1, check2"
   ]
  },
  {
   "cell_type": "markdown",
   "metadata": {},
   "source": [
    "Now we can modidy our `parse_row` function, to check for `None` entries and to return the namedTuple `Ticked` instead of a simple list"
   ]
  },
  {
   "cell_type": "code",
   "execution_count": 53,
   "metadata": {},
   "outputs": [],
   "source": [
    "def parse_row(row, *, default=None):\n",
    "    row = row.strip('\\n').split(',')\n",
    "    row = [func(r) for func, r in zip(colums_dtype_parser, row)] \n",
    "    # we want a list because we'll iterate on it at least twice and it woudn't be possible with a generator\n",
    "    if all(item is not None for item in row): # if there isn't any None value\n",
    "        return Ticket(*row)\n",
    "    else:\n",
    "        return default\n",
    "    "
   ]
  },
  {
   "cell_type": "code",
   "execution_count": 58,
   "metadata": {},
   "outputs": [
    {
     "name": "stdout",
     "output_type": "stream",
     "text": [
      "Ticket(summons_number=4006478550, plate_id='VAD7274', registration_state='VA', plate_type='PAS', issue_date=datetime.date(2016, 10, 5), violation_code=5, vehicle_body_type='4D', vehicle_make='BMW', violation_description='BUS LANE VIOLATION')\n",
      "Ticket(summons_number=4006462396, plate_id='22834JK', registration_state='NY', plate_type='COM', issue_date=datetime.date(2016, 9, 30), violation_code=5, vehicle_body_type='VAN', vehicle_make='CHEVR', violation_description='BUS LANE VIOLATION')\n",
      "Ticket(summons_number=4007117810, plate_id='21791MG', registration_state='NY', plate_type='COM', issue_date=datetime.date(2017, 4, 10), violation_code=5, vehicle_body_type='VAN', vehicle_make='DODGE', violation_description='BUS LANE VIOLATION')\n"
     ]
    }
   ],
   "source": [
    "raw_data = read_data()\n",
    "for _ in range(3):\n",
    "    row = next(raw_data)\n",
    "    parsed_row = parse_row(row)\n",
    "    print(parsed_row)"
   ]
  },
  {
   "cell_type": "markdown",
   "metadata": {},
   "source": [
    "At last, need a generator function that is able to parse all the data at once"
   ]
  },
  {
   "cell_type": "code",
   "execution_count": 59,
   "metadata": {},
   "outputs": [],
   "source": [
    "def parse_data():\n",
    "    for row in read_data(): # read_data() is a generator itself\n",
    "        parsed = parse_row(row)\n",
    "        if parsed: # if it not a None but a Ticket\n",
    "            yield parsed\n",
    "    "
   ]
  },
  {
   "cell_type": "code",
   "execution_count": 60,
   "metadata": {},
   "outputs": [],
   "source": [
    "parser = parse_data()"
   ]
  },
  {
   "cell_type": "code",
   "execution_count": 62,
   "metadata": {},
   "outputs": [
    {
     "name": "stdout",
     "output_type": "stream",
     "text": [
      "Ticket(summons_number=4006478550, plate_id='VAD7274', registration_state='VA', plate_type='PAS', issue_date=datetime.date(2016, 10, 5), violation_code=5, vehicle_body_type='4D', vehicle_make='BMW', violation_description='BUS LANE VIOLATION')\n",
      "Ticket(summons_number=4006462396, plate_id='22834JK', registration_state='NY', plate_type='COM', issue_date=datetime.date(2016, 9, 30), violation_code=5, vehicle_body_type='VAN', vehicle_make='CHEVR', violation_description='BUS LANE VIOLATION')\n",
      "Ticket(summons_number=4007117810, plate_id='21791MG', registration_state='NY', plate_type='COM', issue_date=datetime.date(2017, 4, 10), violation_code=5, vehicle_body_type='VAN', vehicle_make='DODGE', violation_description='BUS LANE VIOLATION')\n",
      "Ticket(summons_number=4006265037, plate_id='FZX9232', registration_state='NY', plate_type='PAS', issue_date=datetime.date(2016, 8, 23), violation_code=5, vehicle_body_type='SUBN', vehicle_make='FORD', violation_description='BUS LANE VIOLATION')\n",
      "Ticket(summons_number=4006535600, plate_id='N203399C', registration_state='NY', plate_type='OMT', issue_date=datetime.date(2016, 10, 19), violation_code=5, vehicle_body_type='SUBN', vehicle_make='FORD', violation_description='BUS LANE VIOLATION')\n",
      "Ticket(summons_number=4007156700, plate_id='92163MG', registration_state='NY', plate_type='COM', issue_date=datetime.date(2017, 4, 13), violation_code=5, vehicle_body_type='VAN', vehicle_make='FRUEH', violation_description='BUS LANE VIOLATION')\n",
      "Ticket(summons_number=4006687989, plate_id='MIQ600', registration_state='SC', plate_type='PAS', issue_date=datetime.date(2016, 11, 21), violation_code=5, vehicle_body_type='VN', vehicle_make='HONDA', violation_description='BUS LANE VIOLATION')\n",
      "Ticket(summons_number=4006943052, plate_id='2AE3984', registration_state='MD', plate_type='PAS', issue_date=datetime.date(2017, 2, 1), violation_code=5, vehicle_body_type='SW', vehicle_make='LINCO', violation_description='BUS LANE VIOLATION')\n",
      "Ticket(summons_number=4007306795, plate_id='HLG4926', registration_state='NY', plate_type='PAS', issue_date=datetime.date(2017, 5, 30), violation_code=5, vehicle_body_type='SUBN', vehicle_make='TOYOT', violation_description='BUS LANE VIOLATION')\n",
      "Ticket(summons_number=4007124590, plate_id='T715907C', registration_state='NY', plate_type='OMT', issue_date=datetime.date(2017, 4, 3), violation_code=5, vehicle_body_type='SUBN', vehicle_make='TOYOT', violation_description='BUS LANE VIOLATION')\n"
     ]
    }
   ],
   "source": [
    "for _ in range(10):\n",
    "    print(next(parser))"
   ]
  },
  {
   "cell_type": "markdown",
   "metadata": {},
   "source": [
    "## Goal 2\n",
    "Calculate the number of violation by vehicle_make"
   ]
  },
  {
   "cell_type": "code",
   "execution_count": 65,
   "metadata": {},
   "outputs": [],
   "source": [
    "res = dict()\n",
    "def violation_by_vehicle(row):\n",
    "    vehicle = row.vehicle_make\n",
    "    if vehicle in res:\n",
    "        res[vehicle] += 1\n",
    "    else:\n",
    "        res[vehicle] = 1"
   ]
  },
  {
   "cell_type": "code",
   "execution_count": 68,
   "metadata": {},
   "outputs": [],
   "source": [
    "parser = parse_data()\n",
    "for row in parser:\n",
    "    violation_by_vehicle(row)\n",
    "    "
   ]
  },
  {
   "cell_type": "code",
   "execution_count": 73,
   "metadata": {},
   "outputs": [
    {
     "data": {
      "text/plain": [
       "[('TOYOT', 114), ('HONDA', 107), ('FORD', 106), ('CHEVR', 77), ('NISSA', 70)]"
      ]
     },
     "execution_count": 73,
     "metadata": {},
     "output_type": "execute_result"
    }
   ],
   "source": [
    "sorted(res.items(), key= lambda x : x[1], reverse=True)[:5]"
   ]
  },
  {
   "cell_type": "markdown",
   "metadata": {},
   "source": [
    "Actually, there is a more clever way to achieve the dictionary population without the if-else. Inside the `collections` module there is a particural dictionary type called `defaultdict` in which we can specify a default value that will be associated to a non-exsisting key when queried (standard dict will trow an error if asked for a non-exsisting key)"
   ]
  },
  {
   "cell_type": "code",
   "execution_count": 74,
   "metadata": {},
   "outputs": [],
   "source": [
    "from collections import defaultdict\n",
    "res = defaultdict(int)\n",
    "\n",
    "def violation_by_vehicle(row):\n",
    "    vehicle = row.vehicle_make\n",
    "    res[vehicle] += 1\n"
   ]
  },
  {
   "cell_type": "code",
   "execution_count": 75,
   "metadata": {},
   "outputs": [
    {
     "data": {
      "text/plain": [
       "[('TOYOT', 112), ('HONDA', 106), ('FORD', 104), ('CHEVR', 76), ('NISSA', 70)]"
      ]
     },
     "execution_count": 75,
     "metadata": {},
     "output_type": "execute_result"
    }
   ],
   "source": [
    "parser = parse_data()\n",
    "for row in parser:\n",
    "    violation_by_vehicle(row)\n",
    "\n",
    "sorted(res.items(), key= lambda x : x[1], reverse=True)[:5]  "
   ]
  },
  {
   "cell_type": "code",
   "execution_count": null,
   "metadata": {},
   "outputs": [],
   "source": []
  }
 ],
 "metadata": {
  "kernelspec": {
   "display_name": "Python 3 (ipykernel)",
   "language": "python",
   "name": "python3"
  },
  "language_info": {
   "codemirror_mode": {
    "name": "ipython",
    "version": 3
   },
   "file_extension": ".py",
   "mimetype": "text/x-python",
   "name": "python",
   "nbconvert_exporter": "python",
   "pygments_lexer": "ipython3",
   "version": "3.7.4"
  }
 },
 "nbformat": 4,
 "nbformat_minor": 5
}
